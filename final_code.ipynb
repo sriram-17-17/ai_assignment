{
 "cells": [
  {
   "cell_type": "code",
   "execution_count": 36,
   "metadata": {},
   "outputs": [
    {
     "data": {
      "text/html": [
       "<div>\n",
       "<style scoped>\n",
       "    .dataframe tbody tr th:only-of-type {\n",
       "        vertical-align: middle;\n",
       "    }\n",
       "\n",
       "    .dataframe tbody tr th {\n",
       "        vertical-align: top;\n",
       "    }\n",
       "\n",
       "    .dataframe thead th {\n",
       "        text-align: right;\n",
       "    }\n",
       "</style>\n",
       "<table border=\"1\" class=\"dataframe\">\n",
       "  <thead>\n",
       "    <tr style=\"text-align: right;\">\n",
       "      <th></th>\n",
       "      <th>p_recall</th>\n",
       "      <th>timestamp</th>\n",
       "      <th>delta</th>\n",
       "      <th>history_seen</th>\n",
       "      <th>history_correct</th>\n",
       "      <th>session_seen</th>\n",
       "      <th>session_correct</th>\n",
       "    </tr>\n",
       "  </thead>\n",
       "  <tbody>\n",
       "    <tr>\n",
       "      <th>count</th>\n",
       "      <td>1.285423e+07</td>\n",
       "      <td>1.285423e+07</td>\n",
       "      <td>1.285423e+07</td>\n",
       "      <td>1.285423e+07</td>\n",
       "      <td>1.285423e+07</td>\n",
       "      <td>1.285423e+07</td>\n",
       "      <td>1.285423e+07</td>\n",
       "    </tr>\n",
       "    <tr>\n",
       "      <th>mean</th>\n",
       "      <td>8.961056e-01</td>\n",
       "      <td>1.362589e+09</td>\n",
       "      <td>7.295811e+05</td>\n",
       "      <td>2.198109e+01</td>\n",
       "      <td>1.935025e+01</td>\n",
       "      <td>1.817686e+00</td>\n",
       "      <td>1.644134e+00</td>\n",
       "    </tr>\n",
       "    <tr>\n",
       "      <th>std</th>\n",
       "      <td>2.714048e-01</td>\n",
       "      <td>2.932082e+05</td>\n",
       "      <td>2.246499e+06</td>\n",
       "      <td>1.295508e+02</td>\n",
       "      <td>1.119681e+02</td>\n",
       "      <td>1.360180e+00</td>\n",
       "      <td>1.318794e+00</td>\n",
       "    </tr>\n",
       "    <tr>\n",
       "      <th>min</th>\n",
       "      <td>0.000000e+00</td>\n",
       "      <td>1.362076e+09</td>\n",
       "      <td>1.000000e+00</td>\n",
       "      <td>1.000000e+00</td>\n",
       "      <td>1.000000e+00</td>\n",
       "      <td>1.000000e+00</td>\n",
       "      <td>0.000000e+00</td>\n",
       "    </tr>\n",
       "    <tr>\n",
       "      <th>25%</th>\n",
       "      <td>1.000000e+00</td>\n",
       "      <td>1.362343e+09</td>\n",
       "      <td>5.320000e+02</td>\n",
       "      <td>3.000000e+00</td>\n",
       "      <td>3.000000e+00</td>\n",
       "      <td>1.000000e+00</td>\n",
       "      <td>1.000000e+00</td>\n",
       "    </tr>\n",
       "    <tr>\n",
       "      <th>50%</th>\n",
       "      <td>1.000000e+00</td>\n",
       "      <td>1.362591e+09</td>\n",
       "      <td>7.713400e+04</td>\n",
       "      <td>6.000000e+00</td>\n",
       "      <td>6.000000e+00</td>\n",
       "      <td>1.000000e+00</td>\n",
       "      <td>1.000000e+00</td>\n",
       "    </tr>\n",
       "    <tr>\n",
       "      <th>75%</th>\n",
       "      <td>1.000000e+00</td>\n",
       "      <td>1.362846e+09</td>\n",
       "      <td>4.425070e+05</td>\n",
       "      <td>1.500000e+01</td>\n",
       "      <td>1.300000e+01</td>\n",
       "      <td>2.000000e+00</td>\n",
       "      <td>2.000000e+00</td>\n",
       "    </tr>\n",
       "    <tr>\n",
       "      <th>max</th>\n",
       "      <td>1.000000e+00</td>\n",
       "      <td>1.363105e+09</td>\n",
       "      <td>4.032836e+07</td>\n",
       "      <td>1.351800e+04</td>\n",
       "      <td>1.288800e+04</td>\n",
       "      <td>2.000000e+01</td>\n",
       "      <td>2.000000e+01</td>\n",
       "    </tr>\n",
       "  </tbody>\n",
       "</table>\n",
       "</div>"
      ],
      "text/plain": [
       "           p_recall     timestamp         delta  history_seen  \\\n",
       "count  1.285423e+07  1.285423e+07  1.285423e+07  1.285423e+07   \n",
       "mean   8.961056e-01  1.362589e+09  7.295811e+05  2.198109e+01   \n",
       "std    2.714048e-01  2.932082e+05  2.246499e+06  1.295508e+02   \n",
       "min    0.000000e+00  1.362076e+09  1.000000e+00  1.000000e+00   \n",
       "25%    1.000000e+00  1.362343e+09  5.320000e+02  3.000000e+00   \n",
       "50%    1.000000e+00  1.362591e+09  7.713400e+04  6.000000e+00   \n",
       "75%    1.000000e+00  1.362846e+09  4.425070e+05  1.500000e+01   \n",
       "max    1.000000e+00  1.363105e+09  4.032836e+07  1.351800e+04   \n",
       "\n",
       "       history_correct  session_seen  session_correct  \n",
       "count     1.285423e+07  1.285423e+07     1.285423e+07  \n",
       "mean      1.935025e+01  1.817686e+00     1.644134e+00  \n",
       "std       1.119681e+02  1.360180e+00     1.318794e+00  \n",
       "min       1.000000e+00  1.000000e+00     0.000000e+00  \n",
       "25%       3.000000e+00  1.000000e+00     1.000000e+00  \n",
       "50%       6.000000e+00  1.000000e+00     1.000000e+00  \n",
       "75%       1.300000e+01  2.000000e+00     2.000000e+00  \n",
       "max       1.288800e+04  2.000000e+01     2.000000e+01  "
      ]
     },
     "execution_count": 36,
     "metadata": {},
     "output_type": "execute_result"
    }
   ],
   "source": [
    "import numpy as np # linear algebra\n",
    "import pandas as pd # data processing, CSV file I/O (e.g. pd.read_csv)\n",
    "\n",
    "dataset = pd.read_csv(r\"C:\\Users\\ISHAAN\\OneDrive\\Desktop\\AI Project\\learning_traces.13m.csv\\learning_traces.13m.csv\")\n",
    "dataset.describe()"
   ]
  },
  {
   "cell_type": "markdown",
   "metadata": {},
   "source": [
    "Checking if the data is clean, and dropping irrelevant columns"
   ]
  },
  {
   "cell_type": "code",
   "execution_count": 37,
   "metadata": {},
   "outputs": [
    {
     "name": "stdout",
     "output_type": "stream",
     "text": [
      "p_recall             0\n",
      "timestamp            0\n",
      "delta                0\n",
      "user_id              0\n",
      "learning_language    0\n",
      "ui_language          0\n",
      "lexeme_id            0\n",
      "lexeme_string        0\n",
      "history_seen         0\n",
      "history_correct      0\n",
      "session_seen         0\n",
      "session_correct      0\n",
      "dtype: int64\n",
      "   p_recall     delta learning_language ui_language  \\\n",
      "0       1.0  27649635                de          en   \n",
      "1       0.5  27649635                de          en   \n",
      "2       1.0  27649635                de          en   \n",
      "3       0.5  27649635                de          en   \n",
      "4       1.0  27649635                de          en   \n",
      "\n",
      "                          lexeme_id                     lexeme_string  \\\n",
      "0  76390c1350a8dac31186187e2fe1e178  lernt/lernen<vblex><pri><p3><sg>   \n",
      "1  7dfd7086f3671685e2cf1c1da72796d7     die/die<det><def><f><sg><nom>   \n",
      "2  35a54c25a2cda8127343f6a82e6f6b7d          mann/mann<n><m><sg><nom>   \n",
      "3  0cf63ffe3dda158bc3dbd55682b355ae          frau/frau<n><f><sg><nom>   \n",
      "4  84920990d78044db53c1b012f5bf9ab5    das/das<det><def><nt><sg><nom>   \n",
      "\n",
      "   history_seen  history_correct  \n",
      "0             6                4  \n",
      "1             4                4  \n",
      "2             5                4  \n",
      "3             6                5  \n",
      "4             4                4  \n"
     ]
    }
   ],
   "source": [
    "print(dataset.isnull().sum())\n",
    "dataset.drop(columns = ['session_seen','session_correct','timestamp','user_id'], axis = 1, inplace = True)\n",
    "print(dataset.head())"
   ]
  },
  {
   "cell_type": "code",
   "execution_count": 38,
   "metadata": {},
   "outputs": [],
   "source": [
    "en_dataset = dataset.loc[dataset['ui_language'] == 'en']\n",
    "spanish_learner = en_dataset.loc[dataset['learning_language'] == 'es'].copy()\n",
    "spanish_learner.drop(columns = ['ui_language','learning_language'], axis = 1, inplace = True)"
   ]
  },
  {
   "cell_type": "markdown",
   "metadata": {},
   "source": [
    "We have now split the dataset, firstly into the users on the English UI. For the next part, we have selected all the examples of people learning Spanish"
   ]
  },
  {
   "cell_type": "code",
   "execution_count": 39,
   "metadata": {},
   "outputs": [],
   "source": [
    "#splitting data into testing and training\n",
    "from sklearn.model_selection import train_test_split\n",
    "\n",
    "\n",
    "X = spanish_learner.drop(columns = ['p_recall','lexeme_id','lexeme_string'])\n",
    "y = spanish_learner.p_recall\n",
    "X_train, X_test, y_train, y_test = train_test_split(X, y, test_size=0.2, random_state=1)\n"
   ]
  },
  {
   "cell_type": "code",
   "execution_count": 40,
   "metadata": {},
   "outputs": [
    {
     "name": "stdout",
     "output_type": "stream",
     "text": [
      "0.07237797896536205\n"
     ]
    }
   ],
   "source": [
    "#now i will use a linear regressor to predict\n",
    "from sklearn.linear_model import LinearRegression\n",
    "from sklearn.metrics import mean_squared_error\n",
    "from sklearn.model_selection import KFold, cross_val_score\n",
    "\n",
    "lr_spanish = LinearRegression()\n",
    "lr_spanish.fit(X_train,y_train)\n",
    "y_pred = lr_spanish.predict(X_test)\n",
    "\n",
    "\n",
    "\n",
    "print(mean_squared_error(y_pred,y_test))\n"
   ]
  },
  {
   "cell_type": "code",
   "execution_count": 41,
   "metadata": {},
   "outputs": [
    {
     "name": "stdout",
     "output_type": "stream",
     "text": [
      "0.08313204317147346\n"
     ]
    }
   ],
   "source": [
    "ones = np.ones(y_pred.size)\n",
    "print(mean_squared_error(ones,y_test))"
   ]
  },
  {
   "cell_type": "markdown",
   "metadata": {},
   "source": [
    "We can see that the mean error of our model is barely lower than a model which predicts p_recall as 1 for any input. To figure out why, we have plotted the distribution of p_recall in our dataset"
   ]
  },
  {
   "cell_type": "code",
   "execution_count": 42,
   "metadata": {},
   "outputs": [
    {
     "data": {
      "image/png": "[encoded data removed]",
      "text/plain": [
       "<Figure size 640x480 with 1 Axes>"
      ]
     },
     "metadata": {},
     "output_type": "display_data"
    }
   ],
   "source": [
    "import matplotlib.pyplot as plt\n",
    "\n",
    "plt.violinplot(spanish_learner['p_recall'])\n",
    "plt.show()"
   ]
  },
  {
   "cell_type": "code",
   "execution_count": 43,
   "metadata": {},
   "outputs": [
    {
     "name": "stdout",
     "output_type": "stream",
     "text": [
      "0.010024309673820743\n"
     ]
    }
   ],
   "source": [
    "#changing distribution of data and then testing a linear regressor\n",
    "spanish_learner_normal = en_dataset.loc[dataset['learning_language'] == 'es'].copy()\n",
    "new_p_recall = np.random.normal(loc = 0.5, scale = 0.1, size = len(spanish_learner_normal))\n",
    "new_p_recall = np.clip(new_p_recall, 0, 1)\n",
    "spanish_learner_normal['p_recall'] = new_p_recall\n",
    "\n",
    "X = spanish_learner_normal.drop(columns = ['p_recall','lexeme_id','lexeme_string','ui_language','learning_language'])\n",
    "y = spanish_learner_normal.p_recall\n",
    "X_train, X_test, y_train, y_test = train_test_split(X, y, test_size=0.2, random_state=1)\n",
    "\n",
    "lr_spanish = LinearRegression()\n",
    "lr_spanish.fit(X_train,y_train)\n",
    "y_pred = lr_spanish.predict(X_test)\n",
    "\n",
    "\n",
    "\n",
    "\n",
    "\n",
    "print(mean_squared_error(y_pred,y_test))\n"
   ]
  },
  {
   "cell_type": "code",
   "execution_count": 44,
   "metadata": {},
   "outputs": [
    {
     "name": "stdout",
     "output_type": "stream",
     "text": [
      "0.23127888379428796\n"
     ]
    }
   ],
   "source": [
    "X = spanish_learner.drop(columns = ['p_recall','lexeme_id','lexeme_string'])\n",
    "y = spanish_learner.p_recall\n",
    "\n",
    "y_pred = lr_spanish.predict(X)\n",
    "print(mean_squared_error(y,y_pred))"
   ]
  },
  {
   "cell_type": "markdown",
   "metadata": {},
   "source": [
    "After undersampling, the model model has a significantly lower error, this did not translate when we used the entire dataset to test.\n",
    "Clearly the distribution of data is important."
   ]
  },
  {
   "cell_type": "markdown",
   "metadata": {},
   "source": [
    "Now, we will try out the same model, but with Dutch learners instead of Spanish learners"
   ]
  },
  {
   "cell_type": "code",
   "execution_count": 45,
   "metadata": {},
   "outputs": [
    {
     "name": "stdout",
     "output_type": "stream",
     "text": [
      "0.07748551846262178\n",
      "0.23240632059715916\n"
     ]
    }
   ],
   "source": [
    "de_learner = en_dataset.loc[dataset['learning_language'] == 'de'].copy()\n",
    "de_learner.drop(columns = ['ui_language','learning_language'], axis = 1, inplace = True)\n",
    "\n",
    "\n",
    "X = de_learner.drop(columns = ['p_recall','lexeme_id','lexeme_string'])\n",
    "y = de_learner.p_recall\n",
    "X_train, X_test, y_train, y_test = train_test_split(X, y, test_size=0.2, random_state=1)\n",
    "\n",
    "lr_de = LinearRegression()\n",
    "lr_de.fit(X_train,y_train)\n",
    "y_pred = lr_de.predict(X_test)\n",
    "\n",
    "\n",
    "\n",
    "\n",
    "\n",
    "print(mean_squared_error(y_pred,y_test))\n",
    "\n",
    "y_pred = lr_spanish.predict(X_test)\n",
    "print(mean_squared_error(y_pred,y_test))\n"
   ]
  },
  {
   "cell_type": "code",
   "execution_count": 46,
   "metadata": {},
   "outputs": [
    {
     "name": "stdout",
     "output_type": "stream",
     "text": [
      "0.009988091552928624\n",
      "0.009988093680211457\n"
     ]
    }
   ],
   "source": [
    "de_learner_normal = en_dataset.loc[dataset['learning_language'] == 'de'].copy()\n",
    "new_p_recall = np.random.normal(loc = 0.5, scale = 0.1, size = len(de_learner_normal))\n",
    "new_p_recall = np.clip(new_p_recall, 0, 1)\n",
    "de_learner_normal['p_recall'] = new_p_recall\n",
    "\n",
    "X = de_learner_normal.drop(columns = ['p_recall','lexeme_id','lexeme_string','ui_language','learning_language'])\n",
    "y = de_learner_normal.p_recall\n",
    "X_train, X_test, y_train, y_test = train_test_split(X, y, test_size=0.2, random_state=1)\n",
    "\n",
    "lr_de = LinearRegression()\n",
    "lr_de.fit(X_train,y_train)\n",
    "y_pred = lr_de.predict(X_test)\n",
    "\n",
    "\n",
    "print(mean_squared_error(y_pred,y_test))\n",
    "\n",
    "y_pred = lr_spanish.predict(X_test)\n",
    "print(mean_squared_error(y_pred,y_test))"
   ]
  }
 ],
 "metadata": {
  "kernelspec": {
   "display_name": "Python 3",
   "language": "python",
   "name": "python3"
  },
  "language_info": {
   "codemirror_mode": {
    "name": "ipython",
    "version": 3
   },
   "file_extension": ".py",
   "mimetype": "text/x-python",
   "name": "python",
   "nbconvert_exporter": "python",
   "pygments_lexer": "ipython3",
   "version": "3.10.9"
  }
 },
 "nbformat": 4,
 "nbformat_minor": 2
}
